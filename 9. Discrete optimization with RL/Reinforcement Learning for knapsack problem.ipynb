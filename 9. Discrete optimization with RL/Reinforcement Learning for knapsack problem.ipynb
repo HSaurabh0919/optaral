{
 "cells": [
  {
   "cell_type": "markdown",
   "metadata": {},
   "source": [
    "# Reinforcement Learning for optimization"
   ]
  },
  {
   "cell_type": "code",
   "execution_count": 68,
   "metadata": {
    "ExecuteTime": {
     "end_time": "2021-04-29T12:14:58.675930Z",
     "start_time": "2021-04-29T12:14:58.504237Z"
    }
   },
   "outputs": [
    {
     "name": "stdout",
     "output_type": "stream",
     "text": [
      "The autoreload extension is already loaded. To reload it, use:\n",
      "  %reload_ext autoreload\n"
     ]
    }
   ],
   "source": [
    "# Base Data Science snippet\n",
    "import pandas as pd\n",
    "import numpy as np\n",
    "import matplotlib.pyplot as plt\n",
    "import os\n",
    "import time\n",
    "from tqdm.auto import tqdm\n",
    "\n",
    "%matplotlib inline\n",
    "%load_ext autoreload\n",
    "%autoreload 2"
   ]
  },
  {
   "cell_type": "markdown",
   "metadata": {},
   "source": [
    "In this notebook, we will show how to build and resolve the **Knapsack** problem using **Reinforcement Learning**. "
   ]
  },
  {
   "cell_type": "markdown",
   "metadata": {},
   "source": [
    "##### Knapsack Problem \n",
    "$$ max \\sum_{i=1}^N p_i x_i$$\n",
    "$$\\sum_{i=1}^N w_i x_i <=  W $$"
   ]
  },
  {
   "cell_type": "code",
   "execution_count": 69,
   "metadata": {
    "ExecuteTime": {
     "end_time": "2021-04-29T12:14:59.142542Z",
     "start_time": "2021-04-29T12:14:59.061529Z"
    }
   },
   "outputs": [],
   "source": [
    "N = 10  # Considering 10 items \n",
    "W = 200 # Total capacity \n",
    "p = np.array([100,180,109,200,550,300,305,390,105,207]) # Item prices\n",
    "w = np.array([20,20,39,45,120,58,70,84,30,40]) # Item weights "
   ]
  },
  {
   "cell_type": "markdown",
   "metadata": {},
   "source": [
    "# Problem definition\n",
    "## Defining the environment"
   ]
  },
  {
   "cell_type": "code",
   "execution_count": 70,
   "metadata": {
    "ExecuteTime": {
     "end_time": "2021-04-29T12:14:59.729332Z",
     "start_time": "2021-04-29T12:14:59.633331Z"
    }
   },
   "outputs": [
    {
     "data": {
      "text/plain": [
       "Knapsack(0000000000,items=0.0/10,value=0.0,weight=0.0/200,state=0)"
      ]
     },
     "execution_count": 70,
     "metadata": {},
     "output_type": "execute_result"
    }
   ],
   "source": [
    "class KnapsackEnvironment:\n",
    "    def __init__(self,weights,values,max_capacity):\n",
    "        \n",
    "        # Store default parameters\n",
    "        self.weights = weights\n",
    "        self.values = values\n",
    "        self.max_capacity = max_capacity\n",
    "\n",
    "        assert len(self.weights) == len(self.values)\n",
    "        self.n_items = len(self.weights)\n",
    "        \n",
    "        # Configuration for RL agent\n",
    "        self.action_space = self.n_items\n",
    "        self.observation_space = self.n_items\n",
    "        \n",
    "        # Reset for initialization\n",
    "        self.reset()\n",
    "        \n",
    "    def __repr__(self):\n",
    "        \n",
    "        weight = self.compute_total_weight()\n",
    "        value = self.compute_total_value()\n",
    "        n_items = np.sum(self.state)\n",
    "        state_str = self.state_to_str()\n",
    "        state_index = self.state_to_index()\n",
    "        return f\"Knapsack({state_str},items={n_items}/{self.n_items},value={value},weight={weight}/{self.max_capacity},state={state_index})\"\n",
    "    \n",
    "\n",
    "    def compute_total_weight(self):\n",
    "        return np.sum(self.weights * self.state)\n",
    "\n",
    "    def compute_total_value(self):\n",
    "        return np.sum(self.values * self.state)\n",
    "    \n",
    "    def compute_reward(self):\n",
    "        value = self.compute_total_value()\n",
    "        weight = self.compute_total_weight()\n",
    "        \n",
    "        if weight > self.max_capacity:\n",
    "            return - np.sum(self.values)\n",
    "        else:\n",
    "            return value\n",
    "        \n",
    "    def reset(self):\n",
    "        state = np.zeros(self.n_items)\n",
    "        self.state = state\n",
    "        state_index = self.state_to_index()\n",
    "        return state_index\n",
    "    \n",
    "    def step(self,i):\n",
    "        # Action of putting item i in the knapsack\n",
    "\n",
    "        # Adding item i\n",
    "        self.state[i] = 1\n",
    "        \n",
    "        # Computing and returning the reward\n",
    "        reward = self.compute_reward()\n",
    "        \n",
    "        # Returns also new state and if the experience is finished\n",
    "        s_next = self.state_to_index()\n",
    "        done = reward < 0 or np.sum(self.state) == self.n_items\n",
    "        \n",
    "        return s_next,reward,done\n",
    "    \n",
    "    def state_to_str(self):\n",
    "        return \"\".join(map(str,self.state.astype(int)))\n",
    "        \n",
    "    \n",
    "    def state_to_index(self):\n",
    "        # Use binary representation to encode state\n",
    "        state_str = self.state_to_str()\n",
    "        return int(state_str,2)\n",
    "        \n",
    "        \n",
    "env = KnapsackEnvironment(w,p,W)\n",
    "env"
   ]
  },
  {
   "cell_type": "code",
   "execution_count": 71,
   "metadata": {
    "ExecuteTime": {
     "end_time": "2021-04-29T12:15:00.689558Z",
     "start_time": "2021-04-29T12:15:00.610007Z"
    }
   },
   "outputs": [
    {
     "data": {
      "text/plain": [
       "0"
      ]
     },
     "execution_count": 71,
     "metadata": {},
     "output_type": "execute_result"
    }
   ],
   "source": [
    "env.reset()"
   ]
  },
  {
   "cell_type": "code",
   "execution_count": 72,
   "metadata": {
    "ExecuteTime": {
     "end_time": "2021-04-29T12:15:01.014160Z",
     "start_time": "2021-04-29T12:15:00.928154Z"
    }
   },
   "outputs": [
    {
     "name": "stdout",
     "output_type": "stream",
     "text": [
      "Knapsack(0000100000,items=1.0/10,value=550.0,weight=120.0/200,state=32)\n",
      "32 550.0 False\n"
     ]
    }
   ],
   "source": [
    "s_next,reward,done = env.step(4)\n",
    "print(env)\n",
    "print(s_next,reward,done)"
   ]
  },
  {
   "cell_type": "markdown",
   "metadata": {},
   "source": [
    "## How many possible states"
   ]
  },
  {
   "cell_type": "markdown",
   "metadata": {},
   "source": [
    "Using the nCr (n choose r function) $\\binom{r}{n}$"
   ]
  },
  {
   "cell_type": "code",
   "execution_count": 73,
   "metadata": {
    "ExecuteTime": {
     "end_time": "2021-04-29T12:15:01.953276Z",
     "start_time": "2021-04-29T12:15:01.872278Z"
    }
   },
   "outputs": [
    {
     "data": {
      "text/plain": [
       "1.0"
      ]
     },
     "execution_count": 73,
     "metadata": {},
     "output_type": "execute_result"
    }
   ],
   "source": [
    "import scipy.special\n",
    "\n",
    "# Using the nCr (n choose r function)\n",
    "scipy.special.comb(10,10)"
   ]
  },
  {
   "cell_type": "code",
   "execution_count": 74,
   "metadata": {
    "ExecuteTime": {
     "end_time": "2021-04-29T12:15:02.128054Z",
     "start_time": "2021-04-29T12:15:02.048277Z"
    }
   },
   "outputs": [],
   "source": [
    "n_items = 10\n",
    "\n",
    "def compute_n_states(n_items):\n",
    "    return np.sum([scipy.special.comb(n_items,i) for i in range(n_items+1)])"
   ]
  },
  {
   "cell_type": "code",
   "execution_count": 76,
   "metadata": {
    "ExecuteTime": {
     "end_time": "2021-04-29T12:15:24.536248Z",
     "start_time": "2021-04-29T12:15:24.176220Z"
    }
   },
   "outputs": [
    {
     "data": {
      "image/png": "[encoded data removed]",
      "text/plain": [
       "<Figure size 1080x288 with 1 Axes>"
      ]
     },
     "metadata": {
      "needs_background": "light"
     },
     "output_type": "display_data"
    }
   ],
   "source": [
    "n_states = []\n",
    "for n_items in range(20):\n",
    "    n_states.append(compute_n_states(n_items))\n",
    "    \n",
    "pd.Series(n_states).plot(\n",
    "    figsize = (15,4),\n",
    "    logy = False,\n",
    "    title = \"Number of possible states by items number\",\n",
    "    xlabel = \"n items\",\n",
    "    ylabel = \"n states\"\n",
    ")\n",
    "plt.show()"
   ]
  },
  {
   "cell_type": "markdown",
   "metadata": {},
   "source": [
    "## Defining the agent"
   ]
  },
  {
   "cell_type": "code",
   "execution_count": 77,
   "metadata": {
    "ExecuteTime": {
     "end_time": "2021-04-29T12:15:27.705643Z",
     "start_time": "2021-04-29T12:15:27.616462Z"
    }
   },
   "outputs": [],
   "source": [
    "class QAgent:\n",
    "    def __init__(self,n_items,epsilon = 1.0,epsilon_min = 0.01,epsilon_decay = 0.999,gamma = 0.95,lr = 0.8):\n",
    "        self.states_size = int(compute_n_states(n_items))\n",
    "        self.actions_size = n_items\n",
    "        self.epsilon = epsilon\n",
    "        self.epsilon_min = epsilon_min\n",
    "        self.epsilon_decay = epsilon_decay\n",
    "        self.gamma = gamma\n",
    "        self.lr = lr\n",
    "        self.Q = self.build_model(self.states_size,self.actions_size)\n",
    "        self.reset_memory()\n",
    "        \n",
    "    def expand_state_vector(self,state):\n",
    "        if len(state.shape) == 1 or len(state.shape)==3:\n",
    "            return np.expand_dims(state,axis = 0)\n",
    "        else:\n",
    "            return state\n",
    "\n",
    "    def remember(self,*args):\n",
    "        self.memory.save(args)\n",
    "\n",
    "    def build_model(self,states_size,actions_size):\n",
    "        Q = np.zeros([states_size,actions_size])\n",
    "        return Q\n",
    "\n",
    "\n",
    "    def train(self,s,a,r,s_next):\n",
    "        \n",
    "        self.Q[s,a] = self.Q[s,a] + self.lr * (r + self.gamma*np.max(self.Q[s_next,a]) - self.Q[s,a])\n",
    "\n",
    "        if self.epsilon > self.epsilon_min:\n",
    "            self.epsilon *= self.epsilon_decay\n",
    "\n",
    "    def act(self,s):\n",
    "\n",
    "        # Get Q Vector\n",
    "        q = np.copy(self.Q[s,:])\n",
    "\n",
    "        # Action masking to avoid adding the same items over and over \n",
    "        q[self.actions_memory] = -np.inf\n",
    "\n",
    "        if np.random.rand() > self.epsilon:\n",
    "            a = np.argmax(q)\n",
    "        else:\n",
    "            legal_actions = np.where(q >= 0)[0]\n",
    "            if len(legal_actions) == 0:\n",
    "                return np.random.randint(self.actions_size)\n",
    "            else:\n",
    "                a = np.random.choice(legal_actions)\n",
    "            \n",
    "        self.remember_action(a)\n",
    "\n",
    "        return a\n",
    "    \n",
    "    def remember_action(self,a):\n",
    "        self.actions_memory.append(a)\n",
    "\n",
    "    def reset_memory(self):\n",
    "        self.actions_memory = []\n"
   ]
  },
  {
   "cell_type": "code",
   "execution_count": 78,
   "metadata": {
    "ExecuteTime": {
     "end_time": "2021-04-29T12:15:27.857670Z",
     "start_time": "2021-04-29T12:15:27.760641Z"
    }
   },
   "outputs": [],
   "source": [
    "agent = QAgent(10)"
   ]
  },
  {
   "cell_type": "code",
   "execution_count": 79,
   "metadata": {
    "ExecuteTime": {
     "end_time": "2021-04-29T12:15:27.994635Z",
     "start_time": "2021-04-29T12:15:27.906637Z"
    }
   },
   "outputs": [
    {
     "data": {
      "text/plain": [
       "array([0., 0., 0., 0., 0., 0., 0., 0., 0., 0.])"
      ]
     },
     "execution_count": 79,
     "metadata": {},
     "output_type": "execute_result"
    }
   ],
   "source": [
    "agent.Q[0]"
   ]
  },
  {
   "cell_type": "code",
   "execution_count": 80,
   "metadata": {
    "ExecuteTime": {
     "end_time": "2021-04-29T12:15:28.278193Z",
     "start_time": "2021-04-29T12:15:28.191228Z"
    }
   },
   "outputs": [
    {
     "data": {
      "text/plain": [
       "(1024, 10)"
      ]
     },
     "execution_count": 80,
     "metadata": {},
     "output_type": "execute_result"
    }
   ],
   "source": [
    "agent.Q.shape"
   ]
  },
  {
   "cell_type": "code",
   "execution_count": 81,
   "metadata": {
    "ExecuteTime": {
     "end_time": "2021-04-29T12:15:28.424192Z",
     "start_time": "2021-04-29T12:15:28.337196Z"
    }
   },
   "outputs": [
    {
     "data": {
      "text/plain": [
       "0"
      ]
     },
     "execution_count": 81,
     "metadata": {},
     "output_type": "execute_result"
    }
   ],
   "source": [
    "agent.act(0)"
   ]
  },
  {
   "cell_type": "markdown",
   "metadata": {},
   "source": [
    "## Defining the training loop"
   ]
  },
  {
   "cell_type": "code",
   "execution_count": 82,
   "metadata": {
    "ExecuteTime": {
     "end_time": "2021-04-29T12:15:28.691944Z",
     "start_time": "2021-04-29T12:15:28.610190Z"
    }
   },
   "outputs": [],
   "source": [
    "def run_episode(env,agent,verbose = 1):\n",
    "\n",
    "    s = env.reset()\n",
    "    agent.reset_memory()\n",
    "\n",
    "    max_step = env.n_items\n",
    "    \n",
    "    episode_best_reward = 0\n",
    "    episode_best_strategy = None\n",
    "    \n",
    "    i = 0\n",
    "    while i < max_step:\n",
    "\n",
    "        # Choose an action\n",
    "        a = agent.act(s)\n",
    "        \n",
    "        # Take the action, and get the reward from environment\n",
    "        s_next,r,done = env.step(a)\n",
    "\n",
    "        if not done:\n",
    "            episode_best_reward = r\n",
    "            episode_best_strategy = np.binary_repr(s_next)\n",
    "            \n",
    "        if verbose: print(env,s_next,r,done)\n",
    "        \n",
    "        # Update our knowledge in the Q-table\n",
    "        agent.train(s,a,r,s_next)\n",
    "        \n",
    "        # Update the caches\n",
    "        s = s_next\n",
    "        \n",
    "        # If the episode is terminated\n",
    "        i += 1\n",
    "        \n",
    "        if done:\n",
    "            break\n",
    "\n",
    "    return env,agent,episode_best_reward,episode_best_strategy\n",
    "\n",
    "\n",
    "\n",
    "\n",
    "\n",
    "def run_n_episodes(env,agent,n_episodes):\n",
    "\n",
    "    # Store the rewards\n",
    "    rewards = []\n",
    "\n",
    "    # Experience replay\n",
    "    for i in tqdm(range(n_episodes)):\n",
    "\n",
    "        # Run the episode\n",
    "        env,agent,reward,strategy = run_episode(env,agent,verbose = 0)\n",
    "        rewards.append({\n",
    "            \"reward\":reward,\n",
    "            \"strategy\":strategy,\n",
    "        })\n",
    "        \n",
    "    rewards = pd.DataFrame(rewards)\n",
    "\n",
    "    # Show rewards\n",
    "    plt.figure(figsize = (15,3))\n",
    "    plt.title(\"Rewards over training\")\n",
    "    plt.plot(rewards[\"reward\"])#, 'o',markersize = 1)\n",
    "    plt.show()\n",
    "\n",
    "    return rewards,env,agent"
   ]
  },
  {
   "cell_type": "markdown",
   "metadata": {},
   "source": [
    "## Training"
   ]
  },
  {
   "cell_type": "code",
   "execution_count": 83,
   "metadata": {
    "ExecuteTime": {
     "end_time": "2021-04-29T12:15:28.985994Z",
     "start_time": "2021-04-29T12:15:28.894944Z"
    }
   },
   "outputs": [
    {
     "name": "stdout",
     "output_type": "stream",
     "text": [
      "Knapsack(0000001000,items=1.0/10,value=305.0,weight=70.0/200,state=8) 8 305.0 False\n",
      "Knapsack(0001001000,items=2.0/10,value=505.0,weight=115.0/200,state=72) 72 505.0 False\n",
      "Knapsack(0001101000,items=3.0/10,value=1055.0,weight=235.0/200,state=104) 104 -2446 True\n"
     ]
    },
    {
     "data": {
      "text/plain": [
       "(Knapsack(0001101000,items=3.0/10,value=1055.0,weight=235.0/200,state=104),\n",
       " <__main__.QAgent at 0x275f2dd2748>,\n",
       " 505.0,\n",
       " '1001000')"
      ]
     },
     "execution_count": 83,
     "metadata": {},
     "output_type": "execute_result"
    }
   ],
   "source": [
    "agent = QAgent(10)\n",
    "\n",
    "run_episode(env,agent,verbose = True)"
   ]
  },
  {
   "cell_type": "code",
   "execution_count": 84,
   "metadata": {
    "ExecuteTime": {
     "end_time": "2021-04-29T12:15:29.585336Z",
     "start_time": "2021-04-29T12:15:29.059942Z"
    }
   },
   "outputs": [
    {
     "data": {
      "application/vnd.jupyter.widget-view+json": {
       "model_id": "428827071f2048aa9082ef4acf0b2dc7",
       "version_major": 2,
       "version_minor": 0
      },
      "text/plain": [
       "HBox(children=(FloatProgress(value=0.0, max=500.0), HTML(value='')))"
      ]
     },
     "metadata": {},
     "output_type": "display_data"
    },
    {
     "name": "stdout",
     "output_type": "stream",
     "text": [
      "\n"
     ]
    },
    {
     "data": {
      "image/png": "[encoded data removed]",
      "text/plain": [
       "<Figure size 1080x216 with 1 Axes>"
      ]
     },
     "metadata": {
      "needs_background": "light"
     },
     "output_type": "display_data"
    },
    {
     "data": {
      "text/html": [
       "<div>\n",
       "<style scoped>\n",
       "    .dataframe tbody tr th:only-of-type {\n",
       "        vertical-align: middle;\n",
       "    }\n",
       "\n",
       "    .dataframe tbody tr th {\n",
       "        vertical-align: top;\n",
       "    }\n",
       "\n",
       "    .dataframe thead th {\n",
       "        text-align: right;\n",
       "    }\n",
       "</style>\n",
       "<table border=\"1\" class=\"dataframe\">\n",
       "  <thead>\n",
       "    <tr style=\"text-align: right;\">\n",
       "      <th></th>\n",
       "      <th>reward</th>\n",
       "      <th>strategy</th>\n",
       "    </tr>\n",
       "  </thead>\n",
       "  <tbody>\n",
       "    <tr>\n",
       "      <th>495</th>\n",
       "      <td>894.0</td>\n",
       "      <td>111010010</td>\n",
       "    </tr>\n",
       "    <tr>\n",
       "      <th>496</th>\n",
       "      <td>930.0</td>\n",
       "      <td>101100000</td>\n",
       "    </tr>\n",
       "    <tr>\n",
       "      <th>497</th>\n",
       "      <td>930.0</td>\n",
       "      <td>101100000</td>\n",
       "    </tr>\n",
       "    <tr>\n",
       "      <th>498</th>\n",
       "      <td>992.0</td>\n",
       "      <td>1101001001</td>\n",
       "    </tr>\n",
       "    <tr>\n",
       "      <th>499</th>\n",
       "      <td>930.0</td>\n",
       "      <td>101100000</td>\n",
       "    </tr>\n",
       "  </tbody>\n",
       "</table>\n",
       "</div>"
      ],
      "text/plain": [
       "     reward    strategy\n",
       "495   894.0   111010010\n",
       "496   930.0   101100000\n",
       "497   930.0   101100000\n",
       "498   992.0  1101001001\n",
       "499   930.0   101100000"
      ]
     },
     "execution_count": 84,
     "metadata": {},
     "output_type": "execute_result"
    }
   ],
   "source": [
    "W = 200 # Total capacity \n",
    "p = np.array([100,180,109,200,550,300,305,390,105,207]) # Item prices\n",
    "w = np.array([20,20,39,45,120,58,70,84,30,40]) # Item weights \n",
    "\n",
    "env = KnapsackEnvironment(w,p,W)\n",
    "agent = QAgent(len(w),epsilon = 1,epsilon_decay=0.999,gamma = 0.01,lr = 0.01)\n",
    "\n",
    "\n",
    "rewards,env,agent = run_n_episodes(env,agent,500)\n",
    "rewards.tail()"
   ]
  },
  {
   "cell_type": "markdown",
   "metadata": {},
   "source": [
    "## Adaptive decision making"
   ]
  },
  {
   "cell_type": "code",
   "execution_count": 85,
   "metadata": {
    "ExecuteTime": {
     "end_time": "2021-04-29T12:15:29.676053Z",
     "start_time": "2021-04-29T12:15:29.589318Z"
    }
   },
   "outputs": [],
   "source": [
    "s = env.reset()\n",
    "agent.reset_memory()\n",
    "\n",
    "# # Choose an action\n",
    "# a = agent.act(s)\n",
    "\n",
    "# # Take the action, and get the reward from environment\n",
    "# s_next,r,done = env.step(a)"
   ]
  },
  {
   "cell_type": "code",
   "execution_count": 67,
   "metadata": {
    "ExecuteTime": {
     "end_time": "2021-04-29T10:50:50.476276Z",
     "start_time": "2021-04-29T10:50:50.391257Z"
    }
   },
   "outputs": [
    {
     "data": {
      "text/plain": [
       "array([  0.        ,  11.343     ,   9.9301    ,   5.9       ,\n",
       "       -24.46      ,   0.        ,  13.8305    ,   0.        ,\n",
       "         4.95      ,  78.35874978])"
      ]
     },
     "execution_count": 67,
     "metadata": {},
     "output_type": "execute_result"
    }
   ],
   "source": [
    "agent.Q[4]"
   ]
  },
  {
   "cell_type": "markdown",
   "metadata": {},
   "source": [
    "# Exercise \n",
    "- Random weights & values\n",
    "- Multi Knapsack problem\n",
    "- Deep Reinforcement Learning"
   ]
  },
  {
   "cell_type": "markdown",
   "metadata": {},
   "source": [
    "# References\n",
    "- https://emergence.pub/blog/2021/03/06/tsp\n",
    "- https://towardsdatascience.com/neural-knapsack-8edd737bdc15"
   ]
  }
 ],
 "metadata": {
  "kernelspec": {
   "display_name": "Python 3",
   "language": "python",
   "name": "python3"
  },
  "language_info": {
   "codemirror_mode": {
    "name": "ipython",
    "version": 3
   },
   "file_extension": ".py",
   "mimetype": "text/x-python",
   "name": "python",
   "nbconvert_exporter": "python",
   "pygments_lexer": "ipython3",
   "version": "3.7.4"
  },
  "toc": {
   "base_numbering": 1,
   "nav_menu": {},
   "number_sections": true,
   "sideBar": true,
   "skip_h1_title": false,
   "title_cell": "Table of Contents",
   "title_sidebar": "Contents",
   "toc_cell": false,
   "toc_position": {},
   "toc_section_display": true,
   "toc_window_display": false
  }
 },
 "nbformat": 4,
 "nbformat_minor": 4
}
