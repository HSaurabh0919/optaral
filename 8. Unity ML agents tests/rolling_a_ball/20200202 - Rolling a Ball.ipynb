{
 "cells": [
  {
   "cell_type": "markdown",
   "metadata": {},
   "source": [
    "# Rolling a Ball"
   ]
  },
  {
   "cell_type": "markdown",
   "metadata": {},
   "source": [
    "![](rollingaball1.png)"
   ]
  },
  {
   "cell_type": "markdown",
   "metadata": {},
   "source": [
    "# Interaction test"
   ]
  },
  {
   "cell_type": "markdown",
   "metadata": {},
   "source": [
    "> This comes from the getting started tutorial applied to the 3D Ball Agent"
   ]
  },
  {
   "cell_type": "code",
   "execution_count": 1,
   "metadata": {},
   "outputs": [
    {
     "name": "stdout",
     "output_type": "stream",
     "text": [
      "Python version:\n",
      "3.6.4 |Anaconda, Inc.| (default, Jan 16 2018, 10:22:32) [MSC v.1900 64 bit (AMD64)]\n"
     ]
    }
   ],
   "source": [
    "import matplotlib.pyplot as plt\n",
    "import numpy as np\n",
    "import sys\n",
    "\n",
    "from mlagents_envs.environment import UnityEnvironment\n",
    "from mlagents_envs.side_channel.engine_configuration_channel import EngineConfig, EngineConfigurationChannel\n",
    "\n",
    "%matplotlib inline\n",
    "\n",
    "print(\"Python version:\")\n",
    "print(sys.version)\n",
    "\n",
    "# check Python version\n",
    "if (sys.version_info[0] < 3):\n",
    "    raise Exception(\"ERROR: ML-Agents Toolkit (v0.3 onwards) requires Python 3\")"
   ]
  },
  {
   "cell_type": "code",
   "execution_count": 3,
   "metadata": {},
   "outputs": [
    {
     "name": "stderr",
     "output_type": "stream",
     "text": [
      "INFO:mlagents_envs:Listening on port 5004. Start training by pressing the Play button in the Unity Editor.\n"
     ]
    }
   ],
   "source": [
    "engine_configuration_channel = EngineConfigurationChannel()\n",
    "env = UnityEnvironment(base_port = 5004)#, file_name=env_name, side_channels = [engine_configuration_channel])"
   ]
  },
  {
   "cell_type": "code",
   "execution_count": 4,
   "metadata": {},
   "outputs": [
    {
     "name": "stderr",
     "output_type": "stream",
     "text": [
      "INFO:mlagents_envs:Connected new brain:\n",
      "3DBall?team=0\n"
     ]
    }
   ],
   "source": [
    "#Reset the environment\n",
    "env.reset()\n",
    "\n",
    "# Set the default brain to work with\n",
    "group_name = env.get_agent_groups()[0]\n",
    "group_spec = env.get_agent_group_spec(group_name)"
   ]
  },
  {
   "cell_type": "code",
   "execution_count": 7,
   "metadata": {},
   "outputs": [
    {
     "name": "stdout",
     "output_type": "stream",
     "text": [
      "Number of observations :  1\n",
      "Agent state looks like: \n",
      "[[-1.4673042e-02 -1.4683060e-02 -5.2082062e-01  4.0000000e+00\n",
      "  -7.9952097e-01  0.0000000e+00  0.0000000e+00  0.0000000e+00]\n",
      " [-2.6140258e-02  3.4010161e-02 -4.5768166e-01  4.0000000e+00\n",
      "  -5.5027008e-03  0.0000000e+00  0.0000000e+00  0.0000000e+00]\n",
      " [ 6.3632242e-02  3.7996579e-02 -1.1360741e+00  4.0000000e+00\n",
      "  -4.1505909e-01  0.0000000e+00  0.0000000e+00  0.0000000e+00]\n",
      " [-4.6871606e-02 -3.9161425e-02 -6.1104012e-01  4.0000000e+00\n",
      "   5.6867313e-01  0.0000000e+00  0.0000000e+00  0.0000000e+00]\n",
      " [ 3.8746696e-02  7.7085062e-03  1.1423024e+00  4.0000000e+00\n",
      "  -1.4589405e-01  0.0000000e+00  0.0000000e+00  0.0000000e+00]\n",
      " [ 4.8017994e-02 -7.4483551e-02 -5.7353783e-01  4.0000000e+00\n",
      "  -3.8447380e-03  0.0000000e+00  0.0000000e+00  0.0000000e+00]\n",
      " [ 3.9585244e-02 -8.3357669e-02 -9.4123268e-01  4.0000000e+00\n",
      "  -7.9583311e-01  0.0000000e+00  0.0000000e+00  0.0000000e+00]\n",
      " [ 8.0520153e-02 -2.9333552e-02  1.7612720e-01  4.0000000e+00\n",
      "   5.6848335e-01  0.0000000e+00  0.0000000e+00  0.0000000e+00]\n",
      " [ 8.3218820e-02 -7.4690364e-02  1.4817381e+00  4.0000000e+00\n",
      "   4.3329239e-01  0.0000000e+00  0.0000000e+00  0.0000000e+00]\n",
      " [ 5.2080988e-03  4.5170397e-03  1.4738545e+00  4.0000000e+00\n",
      "   6.0955667e-01  0.0000000e+00  0.0000000e+00  0.0000000e+00]\n",
      " [-4.5549396e-02  1.7029690e-02 -1.4121037e+00  4.0000000e+00\n",
      "  -1.0720904e+00  0.0000000e+00  0.0000000e+00  0.0000000e+00]\n",
      " [ 5.7741486e-02  8.4876612e-02  5.8971786e-01  4.0000000e+00\n",
      "  -7.8450203e-02  0.0000000e+00  0.0000000e+00  0.0000000e+00]]\n",
      "Agent state looks like: \n",
      "[-0.01467304 -0.01468306 -0.5208206   4.         -0.79952097  0.\n",
      "  0.          0.        ]\n",
      "Is there a visual observation ? False\n"
     ]
    }
   ],
   "source": [
    "# Get the state of the agents\n",
    "step_result = env.get_step_result(group_name)\n",
    "\n",
    "# Examine the number of observations per Agent\n",
    "print(\"Number of observations : \", len(group_spec.observation_shapes))\n",
    "\n",
    "# Examine the state space for the first observation for all agents\n",
    "print(\"Agent state looks like: \\n{}\".format(step_result.obs[0]))\n",
    "\n",
    "# Examine the state space for the first observation for the first agent\n",
    "print(\"Agent state looks like: \\n{}\".format(step_result.obs[0][0]))\n",
    "\n",
    "# Is there a visual observation ?\n",
    "vis_obs = any([len(shape) == 3 for shape in group_spec.observation_shapes])\n",
    "print(\"Is there a visual observation ?\", vis_obs)\n",
    "\n",
    "# Examine the visual observations\n",
    "if vis_obs:\n",
    "    vis_obs_index = next(i for i,v in enumerate(group_spec.observation_shapes) if len(v) == 3)\n",
    "    print(\"Agent visual observation look like:\")\n",
    "    obs = step_result.obs[vis_obs_index]\n",
    "    plt.imshow(obs[0,:,:,:])"
   ]
  },
  {
   "cell_type": "code",
   "execution_count": 9,
   "metadata": {},
   "outputs": [
    {
     "name": "stdout",
     "output_type": "stream",
     "text": [
      "Total reward this episode: 1.1000000312924385\n",
      "Total reward this episode: 0.6000000238418579\n",
      "Total reward this episode: 0.6000000238418579\n",
      "Total reward this episode: 2.300000049173832\n",
      "Total reward this episode: 1.1000000312924385\n",
      "Total reward this episode: 2.0000000447034836\n",
      "Total reward this episode: 1.1000000312924385\n",
      "Total reward this episode: 0.6000000238418579\n",
      "Total reward this episode: 1.4901161193847656e-08\n",
      "Total reward this episode: 1.2000000327825546\n"
     ]
    }
   ],
   "source": [
    "for episode in range(10):\n",
    "    env.reset()\n",
    "    step_result = env.get_step_result(group_name)\n",
    "    done = False\n",
    "    episode_rewards = 0\n",
    "    while not done:\n",
    "        action_size = group_spec.action_size\n",
    "        if group_spec.is_action_continuous():\n",
    "            action = np.random.randn(step_result.n_agents(), group_spec.action_size)\n",
    "            \n",
    "        if group_spec.is_action_discrete():\n",
    "            branch_size = group_spec.discrete_action_branches\n",
    "            action = np.column_stack([np.random.randint(0, branch_size[i], size=(step_result.n_agents())) for i in range(len(branch_size))])\n",
    "        env.set_actions(group_name, action)\n",
    "        env.step()\n",
    "        step_result = env.get_step_result(group_name)\n",
    "        episode_rewards += step_result.reward[0]\n",
    "        done = step_result.done[0]\n",
    "    print(\"Total reward this episode: {}\".format(episode_rewards))"
   ]
  },
  {
   "cell_type": "markdown",
   "metadata": {},
   "source": [
    "# Interaction test with custom environment"
   ]
  },
  {
   "cell_type": "code",
   "execution_count": null,
   "metadata": {},
   "outputs": [
    {
     "name": "stderr",
     "output_type": "stream",
     "text": [
      "INFO:mlagents_envs:Listening on port 5004. Start training by pressing the Play button in the Unity Editor.\n"
     ]
    }
   ],
   "source": [
    "import matplotlib.pyplot as plt\n",
    "import numpy as np\n",
    "import sys\n",
    "\n",
    "from mlagents_envs.environment import UnityEnvironment\n",
    "from mlagents_envs.side_channel.engine_configuration_channel import EngineConfig, EngineConfigurationChannel\n",
    "\n",
    "engine_configuration_channel = EngineConfigurationChannel()\n",
    "env = UnityEnvironment(base_port = 5004, side_channels = [engine_configuration_channel])"
   ]
  },
  {
   "cell_type": "code",
   "execution_count": null,
   "metadata": {},
   "outputs": [],
   "source": []
  }
 ],
 "metadata": {
  "kernelspec": {
   "display_name": "Python 3",
   "language": "python",
   "name": "python3"
  },
  "language_info": {
   "codemirror_mode": {
    "name": "ipython",
    "version": 3
   },
   "file_extension": ".py",
   "mimetype": "text/x-python",
   "name": "python",
   "nbconvert_exporter": "python",
   "pygments_lexer": "ipython3",
   "version": "3.6.4"
  }
 },
 "nbformat": 4,
 "nbformat_minor": 2
}
