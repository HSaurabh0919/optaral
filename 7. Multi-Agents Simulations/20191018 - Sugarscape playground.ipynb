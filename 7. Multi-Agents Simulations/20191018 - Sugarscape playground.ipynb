{
 "cells": [
  {
   "cell_type": "markdown",
   "metadata": {},
   "source": [
    "# Sugarscape simulation"
   ]
  },
  {
   "cell_type": "code",
   "execution_count": 1,
   "metadata": {
    "ExecuteTime": {
     "end_time": "2019-10-18T09:57:09.479128Z",
     "start_time": "2019-10-18T09:57:06.539138Z"
    }
   },
   "outputs": [],
   "source": [
    "# Base Data Science snippet\n",
    "import pandas as pd\n",
    "import numpy as np\n",
    "import matplotlib.pyplot as plt\n",
    "import os\n",
    "import time\n",
    "from tqdm import tqdm_notebook\n",
    "\n",
    "%matplotlib inline\n",
    "%load_ext autoreload\n",
    "%autoreload 2"
   ]
  },
  {
   "cell_type": "code",
   "execution_count": 9,
   "metadata": {
    "ExecuteTime": {
     "end_time": "2019-10-18T10:00:33.451585Z",
     "start_time": "2019-10-18T10:00:33.326739Z"
    }
   },
   "outputs": [
    {
     "data": {
      "text/html": [
       "<div>\n",
       "<style scoped>\n",
       "    .dataframe tbody tr th:only-of-type {\n",
       "        vertical-align: middle;\n",
       "    }\n",
       "\n",
       "    .dataframe tbody tr th {\n",
       "        vertical-align: top;\n",
       "    }\n",
       "\n",
       "    .dataframe thead th {\n",
       "        text-align: right;\n",
       "    }\n",
       "</style>\n",
       "<table border=\"1\" class=\"dataframe\">\n",
       "  <thead>\n",
       "    <tr style=\"text-align: right;\">\n",
       "      <th></th>\n",
       "      <th>agent_type</th>\n",
       "      <th>life</th>\n",
       "      <th>x</th>\n",
       "      <th>y</th>\n",
       "      <th>recharge</th>\n",
       "      <th>life_left</th>\n",
       "    </tr>\n",
       "    <tr>\n",
       "      <th>agent_id</th>\n",
       "      <th></th>\n",
       "      <th></th>\n",
       "      <th></th>\n",
       "      <th></th>\n",
       "      <th></th>\n",
       "      <th></th>\n",
       "    </tr>\n",
       "  </thead>\n",
       "  <tbody>\n",
       "    <tr>\n",
       "      <td>1fe38988-f18e-11e9-8999-34415d8a70d1</td>\n",
       "      <td>Rabbit</td>\n",
       "      <td>12.0</td>\n",
       "      <td>5.0</td>\n",
       "      <td>0.0</td>\n",
       "      <td>3.0</td>\n",
       "      <td>12.0</td>\n",
       "    </tr>\n",
       "    <tr>\n",
       "      <td>1fe3d774-f18e-11e9-bc6c-34415d8a70d1</td>\n",
       "      <td>Rabbit</td>\n",
       "      <td>18.0</td>\n",
       "      <td>2.0</td>\n",
       "      <td>8.0</td>\n",
       "      <td>0.0</td>\n",
       "      <td>18.0</td>\n",
       "    </tr>\n",
       "    <tr>\n",
       "      <td>1fe44cc8-f18e-11e9-ac17-34415d8a70d1</td>\n",
       "      <td>Rabbit</td>\n",
       "      <td>18.0</td>\n",
       "      <td>1.0</td>\n",
       "      <td>8.0</td>\n",
       "      <td>0.0</td>\n",
       "      <td>18.0</td>\n",
       "    </tr>\n",
       "    <tr>\n",
       "      <td>1fe4bff8-f18e-11e9-8ff7-34415d8a70d1</td>\n",
       "      <td>Rabbit</td>\n",
       "      <td>10.0</td>\n",
       "      <td>0.0</td>\n",
       "      <td>0.0</td>\n",
       "      <td>6.0</td>\n",
       "      <td>10.0</td>\n",
       "    </tr>\n",
       "    <tr>\n",
       "      <td>1fe5106c-f18e-11e9-b544-34415d8a70d1</td>\n",
       "      <td>Rabbit</td>\n",
       "      <td>13.0</td>\n",
       "      <td>7.0</td>\n",
       "      <td>3.0</td>\n",
       "      <td>0.0</td>\n",
       "      <td>13.0</td>\n",
       "    </tr>\n",
       "    <tr>\n",
       "      <td>1fe58402-f18e-11e9-9776-34415d8a70d1</td>\n",
       "      <td>Rabbit</td>\n",
       "      <td>11.0</td>\n",
       "      <td>1.0</td>\n",
       "      <td>3.0</td>\n",
       "      <td>9.0</td>\n",
       "      <td>11.0</td>\n",
       "    </tr>\n",
       "    <tr>\n",
       "      <td>1fe5fb46-f18e-11e9-b7b2-34415d8a70d1</td>\n",
       "      <td>Rabbit</td>\n",
       "      <td>18.0</td>\n",
       "      <td>4.0</td>\n",
       "      <td>9.0</td>\n",
       "      <td>3.0</td>\n",
       "      <td>18.0</td>\n",
       "    </tr>\n",
       "    <tr>\n",
       "      <td>1fe66ee4-f18e-11e9-a042-34415d8a70d1</td>\n",
       "      <td>Rabbit</td>\n",
       "      <td>19.0</td>\n",
       "      <td>8.0</td>\n",
       "      <td>0.0</td>\n",
       "      <td>1.0</td>\n",
       "      <td>19.0</td>\n",
       "    </tr>\n",
       "    <tr>\n",
       "      <td>1fe6bcec-f18e-11e9-972f-34415d8a70d1</td>\n",
       "      <td>Rabbit</td>\n",
       "      <td>10.0</td>\n",
       "      <td>8.0</td>\n",
       "      <td>4.0</td>\n",
       "      <td>4.0</td>\n",
       "      <td>10.0</td>\n",
       "    </tr>\n",
       "    <tr>\n",
       "      <td>1fe731d8-f18e-11e9-a9d5-34415d8a70d1</td>\n",
       "      <td>Rabbit</td>\n",
       "      <td>10.0</td>\n",
       "      <td>7.0</td>\n",
       "      <td>4.0</td>\n",
       "      <td>3.0</td>\n",
       "      <td>10.0</td>\n",
       "    </tr>\n",
       "  </tbody>\n",
       "</table>\n",
       "</div>"
      ],
      "text/plain": [
       "<sugarscape.Environment2D at 0x28f165961d0>"
      ]
     },
     "execution_count": 9,
     "metadata": {},
     "output_type": "execute_result"
    }
   ],
   "source": [
    "from sugarscape import *\n",
    "\n",
    "env = Environment2D()\n",
    "N = 10\n",
    "rabbits = [Rabbit(env) for i in range(N)]\n",
    "\n",
    "env"
   ]
  },
  {
   "cell_type": "code",
   "execution_count": 11,
   "metadata": {
    "ExecuteTime": {
     "end_time": "2019-10-18T10:01:11.483915Z",
     "start_time": "2019-10-18T10:01:11.245869Z"
    }
   },
   "outputs": [
    {
     "name": "stdout",
     "output_type": "stream",
     "text": [
      "(False, False)\n",
      "(False, False)\n",
      "(True, False)\n",
      "(True, False)\n",
      "(True, False)\n",
      "(False, False)\n",
      "(False, False)\n",
      "(True, False)\n",
      "(True, False)\n",
      "(True, False)\n",
      "(False, False)\n",
      "(False, False)\n",
      "(True, False)\n",
      "(True, False)\n",
      "(True, False)\n",
      "(False, False)\n",
      "(False, False)\n",
      "(True, False)\n",
      "(True, False)\n",
      "(True, False)\n",
      "(False, False)\n",
      "(False, False)\n",
      "(True, False)\n",
      "(True, False)\n",
      "(True, False)\n",
      "(False, False)\n",
      "(False, False)\n",
      "(True, False)\n",
      "(True, False)\n",
      "(True, False)\n",
      "(False, False)\n",
      "(False, False)\n",
      "(True, False)\n",
      "(True, False)\n",
      "(True, False)\n",
      "(False, False)\n",
      "(False, False)\n",
      "(True, False)\n",
      "(True, False)\n",
      "(True, False)\n",
      "(False, False)\n",
      "(False, False)\n",
      "(True, False)\n",
      "(True, False)\n",
      "(True, False)\n",
      "(False, False)\n",
      "(False, False)\n",
      "(True, False)\n",
      "(True, False)\n",
      "(True, False)\n",
      "(False, False)\n",
      "(False, False)\n",
      "(True, False)\n",
      "(True, False)\n",
      "(True, False)\n",
      "(False, False)\n",
      "(False, False)\n",
      "(True, False)\n",
      "(True, False)\n",
      "(True, False)\n",
      "(False, False)\n",
      "(False, False)\n",
      "(True, False)\n",
      "(True, False)\n",
      "(True, False)\n",
      "(False, False)\n",
      "(False, False)\n",
      "(True, False)\n",
      "(True, False)\n",
      "(True, False)\n",
      "(False, False)\n",
      "(False, False)\n",
      "(True, False)\n",
      "(True, False)\n",
      "(True, False)\n",
      "(False, False)\n",
      "(False, False)\n",
      "(True, False)\n",
      "(True, False)\n",
      "(True, False)\n",
      "(False, False)\n",
      "(False, False)\n",
      "(True, False)\n",
      "(True, False)\n",
      "(True, False)\n",
      "(False, False)\n",
      "(False, False)\n",
      "(True, False)\n",
      "(True, False)\n",
      "(True, False)\n",
      "(False, False)\n",
      "(False, False)\n",
      "(True, False)\n",
      "(True, False)\n",
      "(True, False)\n",
      "(False, False)\n",
      "(False, False)\n",
      "(True, False)\n",
      "(True, False)\n",
      "(True, False)\n"
     ]
    }
   ],
   "source": []
  },
  {
   "cell_type": "code",
   "execution_count": 8,
   "metadata": {
    "ExecuteTime": {
     "end_time": "2019-10-18T10:00:19.359106Z",
     "start_time": "2019-10-18T10:00:19.278186Z"
    }
   },
   "outputs": [
    {
     "data": {
      "text/plain": [
       "2"
      ]
     },
     "execution_count": 8,
     "metadata": {},
     "output_type": "execute_result"
    }
   ],
   "source": [
    "7%5"
   ]
  },
  {
   "cell_type": "code",
   "execution_count": 185,
   "metadata": {
    "ExecuteTime": {
     "end_time": "2019-10-18T09:43:10.194127Z",
     "start_time": "2019-10-18T09:43:10.110917Z"
    }
   },
   "outputs": [
    {
     "data": {
      "text/html": [
       "<div>\n",
       "<style scoped>\n",
       "    .dataframe tbody tr th:only-of-type {\n",
       "        vertical-align: middle;\n",
       "    }\n",
       "\n",
       "    .dataframe tbody tr th {\n",
       "        vertical-align: top;\n",
       "    }\n",
       "\n",
       "    .dataframe thead th {\n",
       "        text-align: right;\n",
       "    }\n",
       "</style>\n",
       "<table border=\"1\" class=\"dataframe\">\n",
       "  <thead>\n",
       "    <tr style=\"text-align: right;\">\n",
       "      <th></th>\n",
       "      <th>agent_type</th>\n",
       "      <th>life</th>\n",
       "      <th>x</th>\n",
       "      <th>y</th>\n",
       "      <th>recharge</th>\n",
       "      <th>life_left</th>\n",
       "    </tr>\n",
       "    <tr>\n",
       "      <th>agent_id</th>\n",
       "      <th></th>\n",
       "      <th></th>\n",
       "      <th></th>\n",
       "      <th></th>\n",
       "      <th></th>\n",
       "      <th></th>\n",
       "    </tr>\n",
       "  </thead>\n",
       "  <tbody>\n",
       "  </tbody>\n",
       "</table>\n",
       "</div>"
      ],
      "text/plain": [
       "<sugarscape.Environment2D at 0x161ba3836d8>"
      ]
     },
     "execution_count": 185,
     "metadata": {},
     "output_type": "execute_result"
    }
   ],
   "source": [
    "env.step()\n",
    "env"
   ]
  },
  {
   "cell_type": "code",
   "execution_count": null,
   "metadata": {},
   "outputs": [],
   "source": []
  }
 ],
 "metadata": {
  "kernelspec": {
   "display_name": "Python 3",
   "language": "python",
   "name": "python3"
  },
  "language_info": {
   "codemirror_mode": {
    "name": "ipython",
    "version": 3
   },
   "file_extension": ".py",
   "mimetype": "text/x-python",
   "name": "python",
   "nbconvert_exporter": "python",
   "pygments_lexer": "ipython3",
   "version": "3.6.4"
  },
  "toc": {
   "base_numbering": 1,
   "nav_menu": {},
   "number_sections": true,
   "sideBar": true,
   "skip_h1_title": false,
   "title_cell": "Table of Contents",
   "title_sidebar": "Contents",
   "toc_cell": false,
   "toc_position": {},
   "toc_section_display": true,
   "toc_window_display": false
  }
 },
 "nbformat": 4,
 "nbformat_minor": 2
}
