{
 "cells": [
  {
   "cell_type": "markdown",
   "metadata": {},
   "source": [
    "# Sugarscape simulation"
   ]
  },
  {
   "cell_type": "code",
   "execution_count": 2,
   "metadata": {
    "ExecuteTime": {
     "end_time": "2019-10-18T08:10:53.141106Z",
     "start_time": "2019-10-18T08:10:53.050322Z"
    }
   },
   "outputs": [
    {
     "name": "stdout",
     "output_type": "stream",
     "text": [
      "The autoreload extension is already loaded. To reload it, use:\n",
      "  %reload_ext autoreload\n"
     ]
    }
   ],
   "source": [
    "# Base Data Science snippet\n",
    "import pandas as pd\n",
    "import numpy as np\n",
    "import matplotlib.pyplot as plt\n",
    "import os\n",
    "import time\n",
    "from tqdm import tqdm_notebook\n",
    "\n",
    "%matplotlib inline\n",
    "%load_ext autoreload\n",
    "%autoreload 2"
   ]
  },
  {
   "cell_type": "code",
   "execution_count": 3,
   "metadata": {
    "ExecuteTime": {
     "end_time": "2019-10-18T08:11:33.320661Z",
     "start_time": "2019-10-18T08:11:33.131890Z"
    }
   },
   "outputs": [
    {
     "data": {
      "text/html": [
       "<div>\n",
       "<style scoped>\n",
       "    .dataframe tbody tr th:only-of-type {\n",
       "        vertical-align: middle;\n",
       "    }\n",
       "\n",
       "    .dataframe tbody tr th {\n",
       "        vertical-align: top;\n",
       "    }\n",
       "\n",
       "    .dataframe thead th {\n",
       "        text-align: right;\n",
       "    }\n",
       "</style>\n",
       "<table border=\"1\" class=\"dataframe\">\n",
       "  <thead>\n",
       "    <tr style=\"text-align: right;\">\n",
       "      <th></th>\n",
       "      <th>agent_type</th>\n",
       "      <th>life</th>\n",
       "      <th>coords</th>\n",
       "      <th>life_left</th>\n",
       "    </tr>\n",
       "    <tr>\n",
       "      <th>agent_id</th>\n",
       "      <th></th>\n",
       "      <th></th>\n",
       "      <th></th>\n",
       "      <th></th>\n",
       "    </tr>\n",
       "  </thead>\n",
       "  <tbody>\n",
       "    <tr>\n",
       "      <td>e5a80438-f17e-11e9-a058-34415d8a70d1</td>\n",
       "      <td>Rabbit</td>\n",
       "      <td>11.0</td>\n",
       "      <td>(2, 6)</td>\n",
       "      <td>11.0</td>\n",
       "    </tr>\n",
       "    <tr>\n",
       "      <td>e5a93d0a-f17e-11e9-8eb2-34415d8a70d1</td>\n",
       "      <td>Rabbit</td>\n",
       "      <td>18.0</td>\n",
       "      <td>(9, 7)</td>\n",
       "      <td>18.0</td>\n",
       "    </tr>\n",
       "    <tr>\n",
       "      <td>e5a9d7d2-f17e-11e9-abf6-34415d8a70d1</td>\n",
       "      <td>Rabbit</td>\n",
       "      <td>12.0</td>\n",
       "      <td>(9, 8)</td>\n",
       "      <td>12.0</td>\n",
       "    </tr>\n",
       "    <tr>\n",
       "      <td>e5aa74b6-f17e-11e9-921e-34415d8a70d1</td>\n",
       "      <td>Rabbit</td>\n",
       "      <td>10.0</td>\n",
       "      <td>(3, 3)</td>\n",
       "      <td>10.0</td>\n",
       "    </tr>\n",
       "    <tr>\n",
       "      <td>e5aae97e-f17e-11e9-9937-34415d8a70d1</td>\n",
       "      <td>Rabbit</td>\n",
       "      <td>18.0</td>\n",
       "      <td>(6, 2)</td>\n",
       "      <td>18.0</td>\n",
       "    </tr>\n",
       "    <tr>\n",
       "      <td>e5ab5eb0-f17e-11e9-9e23-34415d8a70d1</td>\n",
       "      <td>Rabbit</td>\n",
       "      <td>16.0</td>\n",
       "      <td>(0, 9)</td>\n",
       "      <td>16.0</td>\n",
       "    </tr>\n",
       "    <tr>\n",
       "      <td>e5abfa82-f17e-11e9-9884-34415d8a70d1</td>\n",
       "      <td>Rabbit</td>\n",
       "      <td>13.0</td>\n",
       "      <td>(7, 1)</td>\n",
       "      <td>13.0</td>\n",
       "    </tr>\n",
       "    <tr>\n",
       "      <td>e5ac6f5c-f17e-11e9-af46-34415d8a70d1</td>\n",
       "      <td>Rabbit</td>\n",
       "      <td>19.0</td>\n",
       "      <td>(6, 9)</td>\n",
       "      <td>19.0</td>\n",
       "    </tr>\n",
       "    <tr>\n",
       "      <td>e5ad0b30-f17e-11e9-91bc-34415d8a70d1</td>\n",
       "      <td>Rabbit</td>\n",
       "      <td>11.0</td>\n",
       "      <td>(8, 7)</td>\n",
       "      <td>11.0</td>\n",
       "    </tr>\n",
       "    <tr>\n",
       "      <td>e5ad8018-f17e-11e9-b485-34415d8a70d1</td>\n",
       "      <td>Rabbit</td>\n",
       "      <td>13.0</td>\n",
       "      <td>(0, 4)</td>\n",
       "      <td>13.0</td>\n",
       "    </tr>\n",
       "  </tbody>\n",
       "</table>\n",
       "</div>"
      ],
      "text/plain": [
       "<sugarscape.Environment at 0x161a7a60f28>"
      ]
     },
     "execution_count": 3,
     "metadata": {},
     "output_type": "execute_result"
    }
   ],
   "source": [
    "from sugarscape import *\n",
    "\n",
    "env = Environment()\n",
    "N = 10\n",
    "rabbits = [Rabbit(env) for i in range(N)]\n",
    "\n",
    "env"
   ]
  },
  {
   "cell_type": "code",
   "execution_count": 5,
   "metadata": {
    "ExecuteTime": {
     "end_time": "2019-10-18T08:11:55.942380Z",
     "start_time": "2019-10-18T08:11:55.864568Z"
    }
   },
   "outputs": [
    {
     "data": {
      "text/plain": [
       "0"
      ]
     },
     "execution_count": 5,
     "metadata": {},
     "output_type": "execute_result"
    }
   ],
   "source": [
    "env[0].step()"
   ]
  },
  {
   "cell_type": "code",
   "execution_count": 6,
   "metadata": {
    "ExecuteTime": {
     "end_time": "2019-10-18T08:11:59.353662Z",
     "start_time": "2019-10-18T08:11:59.273871Z"
    }
   },
   "outputs": [
    {
     "data": {
      "text/html": [
       "<div>\n",
       "<style scoped>\n",
       "    .dataframe tbody tr th:only-of-type {\n",
       "        vertical-align: middle;\n",
       "    }\n",
       "\n",
       "    .dataframe tbody tr th {\n",
       "        vertical-align: top;\n",
       "    }\n",
       "\n",
       "    .dataframe thead th {\n",
       "        text-align: right;\n",
       "    }\n",
       "</style>\n",
       "<table border=\"1\" class=\"dataframe\">\n",
       "  <thead>\n",
       "    <tr style=\"text-align: right;\">\n",
       "      <th></th>\n",
       "      <th>agent_type</th>\n",
       "      <th>life</th>\n",
       "      <th>coords</th>\n",
       "      <th>life_left</th>\n",
       "    </tr>\n",
       "    <tr>\n",
       "      <th>agent_id</th>\n",
       "      <th></th>\n",
       "      <th></th>\n",
       "      <th></th>\n",
       "      <th></th>\n",
       "    </tr>\n",
       "  </thead>\n",
       "  <tbody>\n",
       "    <tr>\n",
       "      <td>e5a80438-f17e-11e9-a058-34415d8a70d1</td>\n",
       "      <td>Rabbit</td>\n",
       "      <td>11.0</td>\n",
       "      <td>(2, 6)</td>\n",
       "      <td>10.0</td>\n",
       "    </tr>\n",
       "    <tr>\n",
       "      <td>e5a93d0a-f17e-11e9-8eb2-34415d8a70d1</td>\n",
       "      <td>Rabbit</td>\n",
       "      <td>18.0</td>\n",
       "      <td>(9, 7)</td>\n",
       "      <td>18.0</td>\n",
       "    </tr>\n",
       "    <tr>\n",
       "      <td>e5a9d7d2-f17e-11e9-abf6-34415d8a70d1</td>\n",
       "      <td>Rabbit</td>\n",
       "      <td>12.0</td>\n",
       "      <td>(9, 8)</td>\n",
       "      <td>12.0</td>\n",
       "    </tr>\n",
       "    <tr>\n",
       "      <td>e5aa74b6-f17e-11e9-921e-34415d8a70d1</td>\n",
       "      <td>Rabbit</td>\n",
       "      <td>10.0</td>\n",
       "      <td>(3, 3)</td>\n",
       "      <td>10.0</td>\n",
       "    </tr>\n",
       "    <tr>\n",
       "      <td>e5aae97e-f17e-11e9-9937-34415d8a70d1</td>\n",
       "      <td>Rabbit</td>\n",
       "      <td>18.0</td>\n",
       "      <td>(6, 2)</td>\n",
       "      <td>18.0</td>\n",
       "    </tr>\n",
       "    <tr>\n",
       "      <td>e5ab5eb0-f17e-11e9-9e23-34415d8a70d1</td>\n",
       "      <td>Rabbit</td>\n",
       "      <td>16.0</td>\n",
       "      <td>(0, 9)</td>\n",
       "      <td>16.0</td>\n",
       "    </tr>\n",
       "    <tr>\n",
       "      <td>e5abfa82-f17e-11e9-9884-34415d8a70d1</td>\n",
       "      <td>Rabbit</td>\n",
       "      <td>13.0</td>\n",
       "      <td>(7, 1)</td>\n",
       "      <td>13.0</td>\n",
       "    </tr>\n",
       "    <tr>\n",
       "      <td>e5ac6f5c-f17e-11e9-af46-34415d8a70d1</td>\n",
       "      <td>Rabbit</td>\n",
       "      <td>19.0</td>\n",
       "      <td>(6, 9)</td>\n",
       "      <td>19.0</td>\n",
       "    </tr>\n",
       "    <tr>\n",
       "      <td>e5ad0b30-f17e-11e9-91bc-34415d8a70d1</td>\n",
       "      <td>Rabbit</td>\n",
       "      <td>11.0</td>\n",
       "      <td>(8, 7)</td>\n",
       "      <td>11.0</td>\n",
       "    </tr>\n",
       "    <tr>\n",
       "      <td>e5ad8018-f17e-11e9-b485-34415d8a70d1</td>\n",
       "      <td>Rabbit</td>\n",
       "      <td>13.0</td>\n",
       "      <td>(0, 4)</td>\n",
       "      <td>13.0</td>\n",
       "    </tr>\n",
       "  </tbody>\n",
       "</table>\n",
       "</div>"
      ],
      "text/plain": [
       "<sugarscape.Environment at 0x161a7a60f28>"
      ]
     },
     "execution_count": 6,
     "metadata": {},
     "output_type": "execute_result"
    }
   ],
   "source": [
    "env"
   ]
  },
  {
   "cell_type": "code",
   "execution_count": 146,
   "metadata": {
    "ExecuteTime": {
     "end_time": "2019-10-17T19:52:30.850623Z",
     "start_time": "2019-10-17T19:52:30.589322Z"
    }
   },
   "outputs": [
    {
     "data": {
      "text/plain": [
       "<matplotlib.axes._subplots.AxesSubplot at 0x1c9f8a92470>"
      ]
     },
     "execution_count": 146,
     "metadata": {},
     "output_type": "execute_result"
    },
    {
     "data": {
      "image/png": "[encoded data removed]",
      "text/plain": [
       "<Figure size 432x432 with 1 Axes>"
      ]
     },
     "metadata": {},
     "output_type": "display_data"
    }
   ],
   "source": [
    "env.data[\"coords\"].apply(pd.Series).rename(columns = {0:\"x\",1:\"y\"}).plot(kind = \"scatter\",x=0,y=1,figsize = (6,6))"
   ]
  },
  {
   "cell_type": "code",
   "execution_count": 135,
   "metadata": {
    "ExecuteTime": {
     "end_time": "2019-10-17T19:49:21.359331Z",
     "start_time": "2019-10-17T19:49:21.243643Z"
    }
   },
   "outputs": [
    {
     "data": {
      "text/plain": [
       "[-1, -4, 0, -2, 0, 0, 0, 0, -2, 0, 0, 0, 0, 0, 0, 0, 0, 0, 0, 0]"
      ]
     },
     "execution_count": 135,
     "metadata": {},
     "output_type": "execute_result"
    }
   ],
   "source": [
    "env.run(20)"
   ]
  },
  {
   "cell_type": "code",
   "execution_count": null,
   "metadata": {},
   "outputs": [],
   "source": [
    "env "
   ]
  }
 ],
 "metadata": {
  "kernelspec": {
   "display_name": "Python 3",
   "language": "python",
   "name": "python3"
  },
  "language_info": {
   "codemirror_mode": {
    "name": "ipython",
    "version": 3
   },
   "file_extension": ".py",
   "mimetype": "text/x-python",
   "name": "python",
   "nbconvert_exporter": "python",
   "pygments_lexer": "ipython3",
   "version": "3.6.4"
  },
  "toc": {
   "base_numbering": 1,
   "nav_menu": {},
   "number_sections": true,
   "sideBar": true,
   "skip_h1_title": false,
   "title_cell": "Table of Contents",
   "title_sidebar": "Contents",
   "toc_cell": false,
   "toc_position": {},
   "toc_section_display": true,
   "toc_window_display": false
  }
 },
 "nbformat": 4,
 "nbformat_minor": 2
}
