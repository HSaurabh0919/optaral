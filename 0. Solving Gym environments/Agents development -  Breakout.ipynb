{
 "cells": [
  {
   "cell_type": "code",
   "execution_count": 1,
   "metadata": {
    "ExecuteTime": {
     "end_time": "2018-10-19T09:31:04.208448Z",
     "start_time": "2018-10-19T09:31:03.293301Z"
    }
   },
   "outputs": [],
   "source": [
    "# Base Data Science snippet\n",
    "import pandas as pd\n",
    "import numpy as np\n",
    "import matplotlib.pyplot as plt\n",
    "import os\n",
    "import time\n",
    "from tqdm import tqdm_notebook\n",
    "\n",
    "%matplotlib inline\n",
    "%load_ext autoreload\n",
    "%autoreload 2"
   ]
  },
  {
   "cell_type": "markdown",
   "metadata": {},
   "source": [
    "# Preparing data"
   ]
  },
  {
   "cell_type": "code",
   "execution_count": 2,
   "metadata": {
    "ExecuteTime": {
     "end_time": "2018-10-19T09:31:05.402230Z",
     "start_time": "2018-10-19T09:31:05.204752Z"
    }
   },
   "outputs": [],
   "source": [
    "import gym"
   ]
  },
  {
   "cell_type": "markdown",
   "metadata": {},
   "source": [
    "## Loading environment"
   ]
  },
  {
   "cell_type": "code",
   "execution_count": 3,
   "metadata": {
    "ExecuteTime": {
     "end_time": "2018-10-19T09:31:06.430503Z",
     "start_time": "2018-10-19T09:31:06.124692Z"
    }
   },
   "outputs": [],
   "source": [
    "env = gym.make('Breakout-v0')"
   ]
  },
  {
   "cell_type": "markdown",
   "metadata": {},
   "source": [
    "## Acquiring two images"
   ]
  },
  {
   "cell_type": "code",
   "execution_count": 11,
   "metadata": {
    "ExecuteTime": {
     "end_time": "2018-10-19T09:31:19.383155Z",
     "start_time": "2018-10-19T09:31:19.189033Z"
    }
   },
   "outputs": [],
   "source": [
    "s = env.reset()\n",
    "s2,reward,done,info = env.step(env.action_space.sample()) # take a random action"
   ]
  },
  {
   "cell_type": "code",
   "execution_count": 12,
   "metadata": {
    "ExecuteTime": {
     "end_time": "2018-10-19T09:31:20.301667Z",
     "start_time": "2018-10-19T09:31:20.131121Z"
    }
   },
   "outputs": [
    {
     "data": {
      "text/plain": [
       "4"
      ]
     },
     "execution_count": 12,
     "metadata": {},
     "output_type": "execute_result"
    }
   ],
   "source": [
    "env.action_space.n"
   ]
  },
  {
   "cell_type": "code",
   "execution_count": 13,
   "metadata": {
    "ExecuteTime": {
     "end_time": "2018-10-19T09:31:21.222986Z",
     "start_time": "2018-10-19T09:31:21.050435Z"
    }
   },
   "outputs": [
    {
     "name": "stdout",
     "output_type": "stream",
     "text": [
      "(210, 160, 3)\n",
      "(210, 160, 3)\n"
     ]
    }
   ],
   "source": [
    "print(s.shape)\n",
    "print(s2.shape)"
   ]
  },
  {
   "cell_type": "code",
   "execution_count": 14,
   "metadata": {
    "ExecuteTime": {
     "end_time": "2018-10-19T09:31:22.156930Z",
     "start_time": "2018-10-19T09:31:21.971423Z"
    }
   },
   "outputs": [],
   "source": [
    "from PIL import Image"
   ]
  },
  {
   "cell_type": "code",
   "execution_count": 15,
   "metadata": {
    "ExecuteTime": {
     "end_time": "2018-10-19T09:31:23.086588Z",
     "start_time": "2018-10-19T09:31:22.917043Z"
    }
   },
   "outputs": [
    {
     "data": {
      "image/png": "[encoded data removed]",
      "text/plain": [
       "<PIL.Image.Image image mode=RGB size=160x210 at 0x207E8C37358>"
      ]
     },
     "execution_count": 15,
     "metadata": {},
     "output_type": "execute_result"
    }
   ],
   "source": [
    "Image.fromarray(s)"
   ]
  },
  {
   "cell_type": "code",
   "execution_count": 16,
   "metadata": {
    "ExecuteTime": {
     "end_time": "2018-10-19T09:31:24.032643Z",
     "start_time": "2018-10-19T09:31:23.863100Z"
    }
   },
   "outputs": [
    {
     "data": {
      "image/png": "[encoded data removed]",
      "text/plain": [
       "<PIL.Image.Image image mode=RGB size=160x210 at 0x207E8C37908>"
      ]
     },
     "execution_count": 16,
     "metadata": {},
     "output_type": "execute_result"
    }
   ],
   "source": [
    "Image.fromarray(s2)"
   ]
  },
  {
   "cell_type": "code",
   "execution_count": 17,
   "metadata": {
    "ExecuteTime": {
     "end_time": "2018-10-19T09:31:24.952828Z",
     "start_time": "2018-10-19T09:31:24.784479Z"
    }
   },
   "outputs": [
    {
     "data": {
      "image/png": "[encoded data removed]",
      "text/plain": [
       "<PIL.Image.Image image mode=RGB size=160x210 at 0x207E8C37208>"
      ]
     },
     "execution_count": 17,
     "metadata": {},
     "output_type": "execute_result"
    }
   ],
   "source": [
    "Image.fromarray(s - s2)"
   ]
  },
  {
   "cell_type": "markdown",
   "metadata": {},
   "source": [
    "# Start building model"
   ]
  },
  {
   "cell_type": "markdown",
   "metadata": {},
   "source": [
    "https://keras.io/getting-started/functional-api-guide/"
   ]
  },
  {
   "cell_type": "code",
   "execution_count": 31,
   "metadata": {
    "ExecuteTime": {
     "end_time": "2018-10-19T10:04:49.509744Z",
     "start_time": "2018-10-19T10:04:49.066930Z"
    }
   },
   "outputs": [],
   "source": [
    "import keras\n",
    "from keras.layers import Input, LSTM, Dense, Conv2D, MaxPooling2D, Dropout, Flatten\n",
    "from keras.layers import concatenate\n",
    "from keras.models import Model\n",
    "from keras.utils import plot_model"
   ]
  },
  {
   "cell_type": "code",
   "execution_count": 19,
   "metadata": {
    "ExecuteTime": {
     "end_time": "2018-10-19T09:31:39.878706Z",
     "start_time": "2018-10-19T09:31:39.549446Z"
    }
   },
   "outputs": [],
   "source": [
    "input_shape = s.shape"
   ]
  },
  {
   "cell_type": "markdown",
   "metadata": {},
   "source": [
    "## Simple model with one frame"
   ]
  },
  {
   "cell_type": "code",
   "execution_count": 20,
   "metadata": {
    "ExecuteTime": {
     "end_time": "2018-10-19T09:31:42.120883Z",
     "start_time": "2018-10-19T09:31:41.660738Z"
    }
   },
   "outputs": [],
   "source": [
    "input1 = Input(shape=input_shape)\n",
    "conv1 = Conv2D(32,(3,3),padding=\"same\",activation=\"relu\")(input1)\n",
    "pool1 = MaxPooling2D(pool_size=(2,2))(conv1)\n",
    "drop1 = Dropout(0.25)(pool1)\n",
    "\n",
    "conv2 = Conv2D(64,(3,3),padding=\"same\",activation=\"relu\")(drop1)\n",
    "pool2 = MaxPooling2D(pool_size=(2,2))(conv2)\n",
    "drop2 = Dropout(0.25)(pool2)\n",
    "\n",
    "hidden1 = Flatten()(drop2)\n",
    "hidden2 = Dense(128, activation='relu')(hidden1)\n",
    "output = Dense(env.action_space.n, activation='softmax')(hidden2)"
   ]
  },
  {
   "cell_type": "code",
   "execution_count": 21,
   "metadata": {
    "ExecuteTime": {
     "end_time": "2018-10-19T09:31:47.855241Z",
     "start_time": "2018-10-19T09:31:47.525467Z"
    }
   },
   "outputs": [],
   "source": [
    "model = Model(inputs=input1, outputs=output)"
   ]
  },
  {
   "cell_type": "code",
   "execution_count": 22,
   "metadata": {
    "ExecuteTime": {
     "end_time": "2018-10-19T09:31:49.574663Z",
     "start_time": "2018-10-19T09:31:49.214620Z"
    }
   },
   "outputs": [],
   "source": [
    "model.compile(optimizer='adam',\n",
    "              loss='categorical_crossentropy',\n",
    "              metrics=['accuracy'])"
   ]
  },
  {
   "cell_type": "code",
   "execution_count": 23,
   "metadata": {
    "ExecuteTime": {
     "end_time": "2018-10-19T09:31:51.266150Z",
     "start_time": "2018-10-19T09:31:50.943046Z"
    }
   },
   "outputs": [],
   "source": [
    "import pydot"
   ]
  },
  {
   "cell_type": "code",
   "execution_count": 24,
   "metadata": {
    "ExecuteTime": {
     "end_time": "2018-10-19T09:31:53.392095Z",
     "start_time": "2018-10-19T09:31:52.639037Z"
    }
   },
   "outputs": [
    {
     "data": {
      "image/svg+xml": [
       "<svg height=\"702pt\" viewBox=\"0.00 0.00 217.00 702.00\" width=\"217pt\" xmlns=\"http://www.w3.org/2000/svg\" xmlns:xlink=\"http://www.w3.org/1999/xlink\">\n",
       "<g class=\"graph\" id=\"graph0\" transform=\"scale(1 1) rotate(0) translate(4 698)\">\n",
       "<title>G</title>\n",
       "<polygon fill=\"white\" points=\"-4,4 -4,-698 213,-698 213,4 -4,4\" stroke=\"none\"/>\n",
       "<!-- 2233309870344 -->\n",
       "<g class=\"node\" id=\"node1\"><title>2233309870344</title>\n",
       "<polygon fill=\"none\" points=\"41.5,-657.5 41.5,-693.5 167.5,-693.5 167.5,-657.5 41.5,-657.5\" stroke=\"black\"/>\n",
       "<text font-family=\"Times New Roman,serif\" font-size=\"14.00\" text-anchor=\"middle\" x=\"104.5\" y=\"-671.8\">input_1: InputLayer</text>\n",
       "</g>\n",
       "<!-- 2233309870288 -->\n",
       "<g class=\"node\" id=\"node2\"><title>2233309870288</title>\n",
       "<polygon fill=\"none\" points=\"41,-584.5 41,-620.5 168,-620.5 168,-584.5 41,-584.5\" stroke=\"black\"/>\n",
       "<text font-family=\"Times New Roman,serif\" font-size=\"14.00\" text-anchor=\"middle\" x=\"104.5\" y=\"-598.8\">conv2d_1: Conv2D</text>\n",
       "</g>\n",
       "<!-- 2233309870344&#45;&gt;2233309870288 -->\n",
       "<g class=\"edge\" id=\"edge1\"><title>2233309870344-&gt;2233309870288</title>\n",
       "<path d=\"M104.5,-657.313C104.5,-649.289 104.5,-639.547 104.5,-630.569\" fill=\"none\" stroke=\"black\"/>\n",
       "<polygon fill=\"black\" points=\"108,-630.529 104.5,-620.529 101,-630.529 108,-630.529\" stroke=\"black\"/>\n",
       "</g>\n",
       "<!-- 2233309871464 -->\n",
       "<g class=\"node\" id=\"node3\"><title>2233309871464</title>\n",
       "<polygon fill=\"none\" points=\"0,-511.5 0,-547.5 209,-547.5 209,-511.5 0,-511.5\" stroke=\"black\"/>\n",
       "<text font-family=\"Times New Roman,serif\" font-size=\"14.00\" text-anchor=\"middle\" x=\"104.5\" y=\"-525.8\">max_pooling2d_1: MaxPooling2D</text>\n",
       "</g>\n",
       "<!-- 2233309870288&#45;&gt;2233309871464 -->\n",
       "<g class=\"edge\" id=\"edge2\"><title>2233309870288-&gt;2233309871464</title>\n",
       "<path d=\"M104.5,-584.313C104.5,-576.289 104.5,-566.547 104.5,-557.569\" fill=\"none\" stroke=\"black\"/>\n",
       "<polygon fill=\"black\" points=\"108,-557.529 104.5,-547.529 101,-557.529 108,-557.529\" stroke=\"black\"/>\n",
       "</g>\n",
       "<!-- 2233309871800 -->\n",
       "<g class=\"node\" id=\"node4\"><title>2233309871800</title>\n",
       "<polygon fill=\"none\" points=\"39.5,-438.5 39.5,-474.5 169.5,-474.5 169.5,-438.5 39.5,-438.5\" stroke=\"black\"/>\n",
       "<text font-family=\"Times New Roman,serif\" font-size=\"14.00\" text-anchor=\"middle\" x=\"104.5\" y=\"-452.8\">dropout_1: Dropout</text>\n",
       "</g>\n",
       "<!-- 2233309871464&#45;&gt;2233309871800 -->\n",
       "<g class=\"edge\" id=\"edge3\"><title>2233309871464-&gt;2233309871800</title>\n",
       "<path d=\"M104.5,-511.313C104.5,-503.289 104.5,-493.547 104.5,-484.569\" fill=\"none\" stroke=\"black\"/>\n",
       "<polygon fill=\"black\" points=\"108,-484.529 104.5,-474.529 101,-484.529 108,-484.529\" stroke=\"black\"/>\n",
       "</g>\n",
       "<!-- 2233309871352 -->\n",
       "<g class=\"node\" id=\"node5\"><title>2233309871352</title>\n",
       "<polygon fill=\"none\" points=\"41,-365.5 41,-401.5 168,-401.5 168,-365.5 41,-365.5\" stroke=\"black\"/>\n",
       "<text font-family=\"Times New Roman,serif\" font-size=\"14.00\" text-anchor=\"middle\" x=\"104.5\" y=\"-379.8\">conv2d_2: Conv2D</text>\n",
       "</g>\n",
       "<!-- 2233309871800&#45;&gt;2233309871352 -->\n",
       "<g class=\"edge\" id=\"edge4\"><title>2233309871800-&gt;2233309871352</title>\n",
       "<path d=\"M104.5,-438.313C104.5,-430.289 104.5,-420.547 104.5,-411.569\" fill=\"none\" stroke=\"black\"/>\n",
       "<polygon fill=\"black\" points=\"108,-411.529 104.5,-401.529 101,-411.529 108,-411.529\" stroke=\"black\"/>\n",
       "</g>\n",
       "<!-- 2233309870736 -->\n",
       "<g class=\"node\" id=\"node6\"><title>2233309870736</title>\n",
       "<polygon fill=\"none\" points=\"0,-292.5 0,-328.5 209,-328.5 209,-292.5 0,-292.5\" stroke=\"black\"/>\n",
       "<text font-family=\"Times New Roman,serif\" font-size=\"14.00\" text-anchor=\"middle\" x=\"104.5\" y=\"-306.8\">max_pooling2d_2: MaxPooling2D</text>\n",
       "</g>\n",
       "<!-- 2233309871352&#45;&gt;2233309870736 -->\n",
       "<g class=\"edge\" id=\"edge5\"><title>2233309871352-&gt;2233309870736</title>\n",
       "<path d=\"M104.5,-365.313C104.5,-357.289 104.5,-347.547 104.5,-338.569\" fill=\"none\" stroke=\"black\"/>\n",
       "<polygon fill=\"black\" points=\"108,-338.529 104.5,-328.529 101,-338.529 108,-338.529\" stroke=\"black\"/>\n",
       "</g>\n",
       "<!-- 2232896718160 -->\n",
       "<g class=\"node\" id=\"node7\"><title>2232896718160</title>\n",
       "<polygon fill=\"none\" points=\"39.5,-219.5 39.5,-255.5 169.5,-255.5 169.5,-219.5 39.5,-219.5\" stroke=\"black\"/>\n",
       "<text font-family=\"Times New Roman,serif\" font-size=\"14.00\" text-anchor=\"middle\" x=\"104.5\" y=\"-233.8\">dropout_2: Dropout</text>\n",
       "</g>\n",
       "<!-- 2233309870736&#45;&gt;2232896718160 -->\n",
       "<g class=\"edge\" id=\"edge6\"><title>2233309870736-&gt;2232896718160</title>\n",
       "<path d=\"M104.5,-292.313C104.5,-284.289 104.5,-274.547 104.5,-265.569\" fill=\"none\" stroke=\"black\"/>\n",
       "<polygon fill=\"black\" points=\"108,-265.529 104.5,-255.529 101,-265.529 108,-265.529\" stroke=\"black\"/>\n",
       "</g>\n",
       "<!-- 2232911009664 -->\n",
       "<g class=\"node\" id=\"node8\"><title>2232911009664</title>\n",
       "<polygon fill=\"none\" points=\"50,-146.5 50,-182.5 159,-182.5 159,-146.5 50,-146.5\" stroke=\"black\"/>\n",
       "<text font-family=\"Times New Roman,serif\" font-size=\"14.00\" text-anchor=\"middle\" x=\"104.5\" y=\"-160.8\">flatten_1: Flatten</text>\n",
       "</g>\n",
       "<!-- 2232896718160&#45;&gt;2232911009664 -->\n",
       "<g class=\"edge\" id=\"edge7\"><title>2232896718160-&gt;2232911009664</title>\n",
       "<path d=\"M104.5,-219.313C104.5,-211.289 104.5,-201.547 104.5,-192.569\" fill=\"none\" stroke=\"black\"/>\n",
       "<polygon fill=\"black\" points=\"108,-192.529 104.5,-182.529 101,-192.529 108,-192.529\" stroke=\"black\"/>\n",
       "</g>\n",
       "<!-- 2233309993728 -->\n",
       "<g class=\"node\" id=\"node9\"><title>2233309993728</title>\n",
       "<polygon fill=\"none\" points=\"52.5,-73.5 52.5,-109.5 156.5,-109.5 156.5,-73.5 52.5,-73.5\" stroke=\"black\"/>\n",
       "<text font-family=\"Times New Roman,serif\" font-size=\"14.00\" text-anchor=\"middle\" x=\"104.5\" y=\"-87.8\">dense_1: Dense</text>\n",
       "</g>\n",
       "<!-- 2232911009664&#45;&gt;2233309993728 -->\n",
       "<g class=\"edge\" id=\"edge8\"><title>2232911009664-&gt;2233309993728</title>\n",
       "<path d=\"M104.5,-146.313C104.5,-138.289 104.5,-128.547 104.5,-119.569\" fill=\"none\" stroke=\"black\"/>\n",
       "<polygon fill=\"black\" points=\"108,-119.529 104.5,-109.529 101,-119.529 108,-119.529\" stroke=\"black\"/>\n",
       "</g>\n",
       "<!-- 2233310398392 -->\n",
       "<g class=\"node\" id=\"node10\"><title>2233310398392</title>\n",
       "<polygon fill=\"none\" points=\"52.5,-0.5 52.5,-36.5 156.5,-36.5 156.5,-0.5 52.5,-0.5\" stroke=\"black\"/>\n",
       "<text font-family=\"Times New Roman,serif\" font-size=\"14.00\" text-anchor=\"middle\" x=\"104.5\" y=\"-14.8\">dense_2: Dense</text>\n",
       "</g>\n",
       "<!-- 2233309993728&#45;&gt;2233310398392 -->\n",
       "<g class=\"edge\" id=\"edge9\"><title>2233309993728-&gt;2233310398392</title>\n",
       "<path d=\"M104.5,-73.3129C104.5,-65.2895 104.5,-55.5475 104.5,-46.5691\" fill=\"none\" stroke=\"black\"/>\n",
       "<polygon fill=\"black\" points=\"108,-46.5288 104.5,-36.5288 101,-46.5289 108,-46.5288\" stroke=\"black\"/>\n",
       "</g>\n",
       "</g>\n",
       "</svg>"
      ],
      "text/plain": [
       "<IPython.core.display.SVG object>"
      ]
     },
     "execution_count": 24,
     "metadata": {},
     "output_type": "execute_result"
    }
   ],
   "source": [
    "from IPython.display import SVG\n",
    "from keras.utils.vis_utils import model_to_dot\n",
    "\n",
    "SVG(model_to_dot(model).create(prog='dot', format='svg'))"
   ]
  },
  {
   "cell_type": "code",
   "execution_count": 54,
   "metadata": {
    "ExecuteTime": {
     "end_time": "2018-10-19T09:23:07.842787Z",
     "start_time": "2018-10-19T09:23:07.264335Z"
    }
   },
   "outputs": [],
   "source": [
    "x = model.predict(np.expand_dims(s,axis=0))"
   ]
  },
  {
   "cell_type": "code",
   "execution_count": 55,
   "metadata": {
    "ExecuteTime": {
     "end_time": "2018-10-19T09:23:08.876521Z",
     "start_time": "2018-10-19T09:23:08.554358Z"
    }
   },
   "outputs": [
    {
     "data": {
      "text/plain": [
       "(1, 4)"
      ]
     },
     "execution_count": 55,
     "metadata": {},
     "output_type": "execute_result"
    }
   ],
   "source": [
    "x.shape"
   ]
  },
  {
   "cell_type": "code",
   "execution_count": 56,
   "metadata": {
    "ExecuteTime": {
     "end_time": "2018-10-19T09:23:51.022153Z",
     "start_time": "2018-10-19T09:23:50.685070Z"
    }
   },
   "outputs": [
    {
     "data": {
      "text/plain": [
       "array([[7.8612364e-05, 5.2136744e-22, 9.9992132e-01, 1.2423177e-09]],\n",
       "      dtype=float32)"
      ]
     },
     "execution_count": 56,
     "metadata": {},
     "output_type": "execute_result"
    }
   ],
   "source": [
    "x"
   ]
  },
  {
   "cell_type": "markdown",
   "metadata": {},
   "source": [
    "## Model with two frames"
   ]
  },
  {
   "cell_type": "code",
   "execution_count": 28,
   "metadata": {
    "ExecuteTime": {
     "end_time": "2018-10-19T09:57:03.014899Z",
     "start_time": "2018-10-19T09:57:02.574874Z"
    }
   },
   "outputs": [],
   "source": [
    "input_image = Input(shape=input_shape)\n",
    "conv1 = Conv2D(32,(3,3),padding=\"same\",activation=\"relu\")(input_image)\n",
    "pool1 = MaxPooling2D(pool_size=(2,2))(conv1)\n",
    "drop1 = Dropout(0.25)(pool1)\n",
    "\n",
    "conv2 = Conv2D(64,(3,3),padding=\"same\",activation=\"relu\")(drop1)\n",
    "pool2 = MaxPooling2D(pool_size=(2,2))(conv2)\n",
    "drop2 = Dropout(0.25)(pool2)\n",
    "\n",
    "out = Flatten()(drop2)\n",
    "\n",
    "vision_model = Model(inputs=input_image, outputs=out)"
   ]
  },
  {
   "cell_type": "code",
   "execution_count": 29,
   "metadata": {
    "ExecuteTime": {
     "end_time": "2018-10-19T09:57:07.064984Z",
     "start_time": "2018-10-19T09:57:06.717332Z"
    }
   },
   "outputs": [],
   "source": [
    "input1 = Input(shape=input_shape)\n",
    "input2 = Input(shape=input_shape)"
   ]
  },
  {
   "cell_type": "code",
   "execution_count": 30,
   "metadata": {
    "ExecuteTime": {
     "end_time": "2018-10-19T10:00:34.673259Z",
     "start_time": "2018-10-19T10:00:34.234427Z"
    }
   },
   "outputs": [],
   "source": [
    "out1 = vision_model(input1)\n",
    "out2 = vision_model(input2)"
   ]
  },
  {
   "cell_type": "code",
   "execution_count": 32,
   "metadata": {
    "ExecuteTime": {
     "end_time": "2018-10-19T10:07:45.729025Z",
     "start_time": "2018-10-19T10:07:45.276273Z"
    }
   },
   "outputs": [],
   "source": [
    "concatenated = concatenate([out1,out2])"
   ]
  },
  {
   "cell_type": "code",
   "execution_count": 33,
   "metadata": {
    "ExecuteTime": {
     "end_time": "2018-10-19T10:08:20.522126Z",
     "start_time": "2018-10-19T10:08:20.045245Z"
    }
   },
   "outputs": [],
   "source": [
    "hidden = Dense(128, activation='relu')(concatenated)\n",
    "output = Dense(env.action_space.n, activation='softmax')(hidden)"
   ]
  },
  {
   "cell_type": "code",
   "execution_count": 34,
   "metadata": {
    "ExecuteTime": {
     "end_time": "2018-10-19T10:08:40.987722Z",
     "start_time": "2018-10-19T10:08:40.546901Z"
    }
   },
   "outputs": [],
   "source": [
    "model = Model([input1, input2], output)"
   ]
  },
  {
   "cell_type": "code",
   "execution_count": 36,
   "metadata": {
    "ExecuteTime": {
     "end_time": "2018-10-19T10:17:27.797866Z",
     "start_time": "2018-10-19T10:17:26.217888Z"
    }
   },
   "outputs": [
    {
     "data": {
      "text/plain": [
       "array([[1.3477243e-06, 2.6075964e-17, 9.9999869e-01, 1.4398999e-14]],\n",
       "      dtype=float32)"
      ]
     },
     "execution_count": 36,
     "metadata": {},
     "output_type": "execute_result"
    }
   ],
   "source": [
    "model.predict([np.expand_dims(s,axis= 0),np.expand_dims(s2,axis= 0)])"
   ]
  },
  {
   "cell_type": "code",
   "execution_count": 37,
   "metadata": {
    "ExecuteTime": {
     "end_time": "2018-10-19T10:19:18.023818Z",
     "start_time": "2018-10-19T10:19:17.394466Z"
    }
   },
   "outputs": [
    {
     "data": {
      "image/svg+xml": [
       "<svg height=\"337pt\" viewBox=\"0.00 0.00 278.00 337.00\" width=\"278pt\" xmlns=\"http://www.w3.org/2000/svg\" xmlns:xlink=\"http://www.w3.org/1999/xlink\">\n",
       "<g class=\"graph\" id=\"graph0\" transform=\"scale(1 1) rotate(0) translate(4 333)\">\n",
       "<title>G</title>\n",
       "<polygon fill=\"white\" points=\"-4,4 -4,-333 274,-333 274,4 -4,4\" stroke=\"none\"/>\n",
       "<!-- 2233311730768 -->\n",
       "<g class=\"node\" id=\"node1\"><title>2233311730768</title>\n",
       "<polygon fill=\"none\" points=\"0,-292.5 0,-328.5 126,-328.5 126,-292.5 0,-292.5\" stroke=\"black\"/>\n",
       "<text font-family=\"Times New Roman,serif\" font-size=\"14.00\" text-anchor=\"middle\" x=\"63\" y=\"-306.8\">input_7: InputLayer</text>\n",
       "</g>\n",
       "<!-- 2233311974792 -->\n",
       "<g class=\"node\" id=\"node3\"><title>2233311974792</title>\n",
       "<polygon fill=\"none\" points=\"81,-219.5 81,-255.5 189,-255.5 189,-219.5 81,-219.5\" stroke=\"black\"/>\n",
       "<text font-family=\"Times New Roman,serif\" font-size=\"14.00\" text-anchor=\"middle\" x=\"135\" y=\"-233.8\">model_4: Model</text>\n",
       "</g>\n",
       "<!-- 2233311730768&#45;&gt;2233311974792 -->\n",
       "<g class=\"edge\" id=\"edge1\"><title>2233311730768-&gt;2233311974792</title>\n",
       "<path d=\"M80.4292,-292.313C89.45,-283.417 100.613,-272.409 110.488,-262.672\" fill=\"none\" stroke=\"black\"/>\n",
       "<polygon fill=\"black\" points=\"113.068,-265.042 117.731,-255.529 108.153,-260.058 113.068,-265.042\" stroke=\"black\"/>\n",
       "</g>\n",
       "<!-- 2233311729368 -->\n",
       "<g class=\"node\" id=\"node2\"><title>2233311729368</title>\n",
       "<polygon fill=\"none\" points=\"144,-292.5 144,-328.5 270,-328.5 270,-292.5 144,-292.5\" stroke=\"black\"/>\n",
       "<text font-family=\"Times New Roman,serif\" font-size=\"14.00\" text-anchor=\"middle\" x=\"207\" y=\"-306.8\">input_8: InputLayer</text>\n",
       "</g>\n",
       "<!-- 2233311729368&#45;&gt;2233311974792 -->\n",
       "<g class=\"edge\" id=\"edge2\"><title>2233311729368-&gt;2233311974792</title>\n",
       "<path d=\"M189.571,-292.313C180.55,-283.417 169.387,-272.409 159.512,-262.672\" fill=\"none\" stroke=\"black\"/>\n",
       "<polygon fill=\"black\" points=\"161.847,-260.058 152.269,-255.529 156.932,-265.042 161.847,-260.058\" stroke=\"black\"/>\n",
       "</g>\n",
       "<!-- 2233332182600 -->\n",
       "<g class=\"node\" id=\"node4\"><title>2233332182600</title>\n",
       "<polygon fill=\"none\" points=\"48.5,-146.5 48.5,-182.5 221.5,-182.5 221.5,-146.5 48.5,-146.5\" stroke=\"black\"/>\n",
       "<text font-family=\"Times New Roman,serif\" font-size=\"14.00\" text-anchor=\"middle\" x=\"135\" y=\"-160.8\">concatenate_1: Concatenate</text>\n",
       "</g>\n",
       "<!-- 2233311974792&#45;&gt;2233332182600 -->\n",
       "<g class=\"edge\" id=\"edge3\"><title>2233311974792-&gt;2233332182600</title>\n",
       "<path d=\"M135,-219.313C135,-211.289 135,-201.547 135,-192.569\" fill=\"none\" stroke=\"black\"/>\n",
       "<polygon fill=\"black\" points=\"138.5,-192.529 135,-182.529 131.5,-192.529 138.5,-192.529\" stroke=\"black\"/>\n",
       "</g>\n",
       "<!-- 2233329752496 -->\n",
       "<g class=\"node\" id=\"node5\"><title>2233329752496</title>\n",
       "<polygon fill=\"none\" points=\"83,-73.5 83,-109.5 187,-109.5 187,-73.5 83,-73.5\" stroke=\"black\"/>\n",
       "<text font-family=\"Times New Roman,serif\" font-size=\"14.00\" text-anchor=\"middle\" x=\"135\" y=\"-87.8\">dense_7: Dense</text>\n",
       "</g>\n",
       "<!-- 2233332182600&#45;&gt;2233329752496 -->\n",
       "<g class=\"edge\" id=\"edge5\"><title>2233332182600-&gt;2233329752496</title>\n",
       "<path d=\"M135,-146.313C135,-138.289 135,-128.547 135,-119.569\" fill=\"none\" stroke=\"black\"/>\n",
       "<polygon fill=\"black\" points=\"138.5,-119.529 135,-109.529 131.5,-119.529 138.5,-119.529\" stroke=\"black\"/>\n",
       "</g>\n",
       "<!-- 2233329752048 -->\n",
       "<g class=\"node\" id=\"node6\"><title>2233329752048</title>\n",
       "<polygon fill=\"none\" points=\"83,-0.5 83,-36.5 187,-36.5 187,-0.5 83,-0.5\" stroke=\"black\"/>\n",
       "<text font-family=\"Times New Roman,serif\" font-size=\"14.00\" text-anchor=\"middle\" x=\"135\" y=\"-14.8\">dense_8: Dense</text>\n",
       "</g>\n",
       "<!-- 2233329752496&#45;&gt;2233329752048 -->\n",
       "<g class=\"edge\" id=\"edge6\"><title>2233329752496-&gt;2233329752048</title>\n",
       "<path d=\"M135,-73.3129C135,-65.2895 135,-55.5475 135,-46.5691\" fill=\"none\" stroke=\"black\"/>\n",
       "<polygon fill=\"black\" points=\"138.5,-46.5288 135,-36.5288 131.5,-46.5289 138.5,-46.5288\" stroke=\"black\"/>\n",
       "</g>\n",
       "</g>\n",
       "</svg>"
      ],
      "text/plain": [
       "<IPython.core.display.SVG object>"
      ]
     },
     "execution_count": 37,
     "metadata": {},
     "output_type": "execute_result"
    }
   ],
   "source": [
    "from IPython.display import SVG\n",
    "from keras.utils.vis_utils import model_to_dot\n",
    "\n",
    "SVG(model_to_dot(model).create(prog='dot', format='svg'))"
   ]
  }
 ],
 "metadata": {
  "kernelspec": {
   "display_name": "Python [conda root]",
   "language": "python",
   "name": "conda-root-py"
  },
  "toc": {
   "base_numbering": 1,
   "nav_menu": {},
   "number_sections": true,
   "sideBar": true,
   "skip_h1_title": false,
   "title_cell": "Table of Contents",
   "title_sidebar": "Contents",
   "toc_cell": false,
   "toc_position": {},
   "toc_section_display": true,
   "toc_window_display": true
  },
  "varInspector": {
   "cols": {
    "lenName": 16,
    "lenType": 16,
    "lenVar": 40
   },
   "kernels_config": {
    "python": {
     "delete_cmd_postfix": "",
     "delete_cmd_prefix": "del ",
     "library": "var_list.py",
     "varRefreshCmd": "print(var_dic_list())"
    },
    "r": {
     "delete_cmd_postfix": ") ",
     "delete_cmd_prefix": "rm(",
     "library": "var_list.r",
     "varRefreshCmd": "cat(var_dic_list()) "
    }
   },
   "types_to_exclude": [
    "module",
    "function",
    "builtin_function_or_method",
    "instance",
    "_Feature"
   ],
   "window_display": false
  }
 },
 "nbformat": 4,
 "nbformat_minor": 2
}
